{
 "cells": [
  {
   "cell_type": "markdown",
   "metadata": {
    "collapsed": false
   },
   "source": [
    "## This is the code from our last project, this still needs to be updatet to our data !"
   ]
  },
  {
   "cell_type": "code",
   "execution_count": 2,
   "metadata": {
    "collapsed": false
   },
   "outputs": [],
   "source": [
    "import eikon as ek\n",
    "import pandas as pd\n",
    "import numpy as np\n",
    "import datetime\n",
    "import plotly.express as px\n",
    "from fredapi import Fred\n",
    "\n",
    "ek.set_app_key(\"320e7257c23945729695a106cedb2b9cb72d3207\") # Elena\n",
    "#ek.set_app_key(\"f47c330480d74c598b7e8ebc2539424e91764dd8\") # Ginevra"
   ]
  },
  {
   "cell_type": "markdown",
   "metadata": {
    "collapsed": false
   },
   "source": [
    "https://community.developers.refinitiv.com/questions/73493/get-eps-historical-data-for-stocks.html"
   ]
  },
  {
   "attachments": {},
   "cell_type": "markdown",
   "metadata": {
    "collapsed": false
   },
   "source": [
    "# Variables\n",
    "\n",
    "**TR.RevenueActValue.date** - prints the datetime\n",
    "\n",
    "## Part 1: Accuracy\n",
    "\n",
    "1. **TR.EPSActValue** - The company's actual value normalized to reflect the I/B/E/S default currency and corporate actions (e.g. stock splits). Earnings Per Share is defined as the EPS that the contributing analyst considers to be that with which to value a security. This figure may include or exclude certain items depending on the contributing analyst's specific model.\n",
    "\n",
    "2. **TR.EPSMean** - The statistical average of all broker estimates determined to be on the majority accounting basis. Earnings Per Share is defined as the EPS that the contributing analyst considers to be that with which to value a security. This figure may include or exclude certain items depending on the contributing analyst's specific model.\n",
    "\n",
    "--> this is a analyst forecast variable\n",
    "\n",
    "3. **TR.EPSActSurprise** - The difference between the actual and the last mean of the period, expressed as a percentage. Earnings Per Share is defined as the EPS that the contributing analyst considers to be that with which to value a security. This figure may include or exclude certain items depending on the contributing analyst's specific model.\n",
    "\n",
    "--> forecast error between actual EPS and TR.EPSMean\n",
    "\n",
    "## Part 2: Factors\n",
    "\n",
    "### Firm charateristics\n",
    "\n",
    "1. **TR.RevenueActValue** - The company's actual value normalized to reflect the I/B/E/S default currency and corporate actions (e.g. stock splits). Revenue (or Sales) is a corporation's net revenue, generally derived from core business activities. For non-financial companies, the calculation of net revenue (or net turnover) in most markets generally involves subtracting transportation and related operational costs from gross revenue/sales. Revenue recognition practices vary significantly from market to market, though generally the recording of revenue is based upon sales invoices issued (or anticipated for forecast purposes) during the accounting period.\n",
    "2. **TR.F.EV** - Enterprise Value is the Company's total economic value OR the theoretical takeover price, often used as an alternative to market capitalization. Enterprise Value represents Market Capitalization TR.F.MktCap + Debt including Preferred Equity & Minority Interest - Total [TR.F.DebtlnclPrefEqMinlntrTot] (-) Cash & Short Term Investments - Total [TR.F.CashSTlnvstTot]. Market Capitalization [TR.F.MktCap] is required. The data item is calculated for all periodicities. It is applicable to all industries.\n",
    "3. **TR.TotalReturn3Mo** - The 3 months total return incorporates the price Change and any relevant dividends for the last 3 months.\n",
    "4. **TR.EVTosales** - EV represents the sum of Market Capitalization, Total Debt, Preferred Stock and Minority Interest minus Cash and Short Term Investments for the most recent fiscal period. Market Cap is calculated by multiplying Current Total Shares Outstanding by Latest Close Price. Sales is LTM Total Revenue. EV to Sales ratio is not calculated when LTM Sales is less than or equal to Zero.\n",
    "5. **TR.F.MktCap** Market Cap\n",
    "6. **TR.F.NetIncAfterTax** Net Income after Tax [SIAT] represents the income/expense after all operating and non-operating income and expense, reserves, income taxes, but before equity in earnings, minority interest, extraordinary items, after-tax adjustments, discontinued operations and preferred dividends. Applicable to all Industries. Net Income after Tax [SIAT] includes: • Net Income after Tax [XIAT]\n",
    "    **loss firm status** - -1 for profit firm, +1 for loss firm based on net income after tax\n",
    "7. **TR.Volume** - Volume for the latest trading day. For stock exchanges that trade share by share, Volume is number of shares that traded on the trade date. For stock exchanges that trade in lots, Volume is divided by Lotsize, if the Lotsize is greater than one.\n",
    "\n",
    "### Analysts\n",
    "1. **TR.NumberOfAnalysts** - Number of sell-side analysts covering the security.\n",
    "2. **TR.RecMean** - Recommendation Numeric Mean based on the Standard Scale Of Strong Buy (1 ), Buy (2), Hold (3), Sell (4), and Strong Sell (5).\n",
    "3. change in recommendation\n",
    "4. **TR.EPSCoefficientOfVariation**\n",
    "5. **TR.priceTargetStdDev** The statistical standard deviation of all estimates included in the summary calculation- Price Target is the projected price level forecasted by the analyst Within a specific time nonzon-\n",
    "\n",
    "### Macro characteristics\n",
    "\n",
    "1. **TR.WACCInflationAdjRiskFreeRate** -  Inflation adjusted risk free rate used is Of the primary index for the domicile country Of the company. Inflation adjusted risk free rate (Rf) is calculated from the US 10-year treasury yield plus the difference between in the 10-year forecasted inflation rate between the given country and the US.\n",
    "\n",
    "\n",
    "\n",
    "### Return Potential\n",
    "\n",
    "1. **TR.PriceTargetMean** The statistical average of all broker estimates determined to be on the majority accounting basis. Price target is the projected price level forecasted by the analyst within a specific time horizon.\n",
    "\n",
    "1. **TR.PriceClose** The latest available closing price. If there are no trades for the most recent completed tradable day, the most recent prior tradable day with trading activity is used, provided the last tradable day for the instrument is within 378 completed calendar days.\n",
    "\n",
    "### More difficult Factors (yearly):\n",
    "\n",
    "#### ESG\n",
    "\n",
    "1. **TR.TRESGScore** Refinitiv ESG Score is an overall company score based on the self-reported information in the environmental, social and corporate governance pillars.\n",
    "\n",
    "#### Proportion of independent Directors\n",
    "\n",
    "1. **TR.AnalyticIndepBoard** - Independent Board Members - Percentage of independent board members as reported by the company.\n",
    "\n",
    "2. **TR.GovernancePillarScore** - Governance Pillar Score - The corporate governance pillar measures a company's systems and processes, which ensure that its board members and executives act in the best interests of its long term shareholders. It reflects a company's capacity, through its use of best management practices, to direct and control its rights and responsibilities through the creation of incentives, as well as checks and balances in order to generate long term shareholder value.\n",
    "\n",
    "## Part 3: Regression\n",
    "\n",
    "### continue.."
   ]
  },
  {
   "cell_type": "code",
   "execution_count": 19,
   "metadata": {
    "collapsed": false
   },
   "outputs": [],
   "source": [
    "economic_story = [\"TR.PriceCloseDate\", \"TR.PriceClose\", \"TR.Volume\", \"TR.CompanyMarketCapitalization\", \"TR.PriceToSalesPerShare\", \"TR.WACCBeta\", \"TR.EPSActValue\", \"TR.PriceToBVPerShare\", \"TR.FwdPriceToBVPerShare\", \"TR.ROEActValue\", \"TR.PE\", \"TR.TotalDebtToEV\", \"TR.TotalReturn\", \"TR.5DAYSMOVINGAVERAGE\", \"TR.NUMBEROFTRADES\", \"TR.CombinedAlphaSectorRank\", \"TR.CombinedAlphaIndustryRank\"]"
   ]
  },
  {
   "cell_type": "markdown",
   "metadata": {
    "collapsed": false
   },
   "source": [
    "# Whole Dataframe"
   ]
  },
  {
   "cell_type": "code",
   "execution_count": 24,
   "metadata": {
    "collapsed": false
   },
   "outputs": [
    {
     "ename": "AttributeError",
     "evalue": "module 'eikon' has no attribute 'set_app_id'",
     "output_type": "error",
     "traceback": [
      "\u001B[0;31m---------------------------------------------------------------------------\u001B[0m",
      "\u001B[0;31mAttributeError\u001B[0m                            Traceback (most recent call last)",
      "Input \u001B[0;32mIn [24]\u001B[0m, in \u001B[0;36m<cell line: 3>\u001B[0;34m()\u001B[0m\n\u001B[1;32m      1\u001B[0m \u001B[38;5;28;01mimport\u001B[39;00m \u001B[38;5;21;01meikon\u001B[39;00m \u001B[38;5;28;01mas\u001B[39;00m \u001B[38;5;21;01mek\u001B[39;00m\n\u001B[0;32m----> 3\u001B[0m \u001B[43mek\u001B[49m\u001B[38;5;241;43m.\u001B[39;49m\u001B[43mset_app_id\u001B[49m(\u001B[38;5;124m'\u001B[39m\u001B[38;5;124myour_app_id\u001B[39m\u001B[38;5;124m'\u001B[39m)\n\u001B[1;32m      4\u001B[0m ek\u001B[38;5;241m.\u001B[39mset_timeout(\u001B[38;5;241m1000\u001B[39m)  \u001B[38;5;66;03m# Set timeout in milliseconds\u001B[39;00m\n\u001B[1;32m      6\u001B[0m df, e \u001B[38;5;241m=\u001B[39m ek\u001B[38;5;241m.\u001B[39mget_data(\u001B[38;5;124m'\u001B[39m\u001B[38;5;124m0#.SPX\u001B[39m\u001B[38;5;124m'\u001B[39m, economic_story, parameters\u001B[38;5;241m=\u001B[39m{\u001B[38;5;124m'\u001B[39m\u001B[38;5;124mSDate\u001B[39m\u001B[38;5;124m'\u001B[39m: \u001B[38;5;124m'\u001B[39m\u001B[38;5;124m2023-05-01\u001B[39m\u001B[38;5;124m'\u001B[39m, \u001B[38;5;124m'\u001B[39m\u001B[38;5;124mEDate\u001B[39m\u001B[38;5;124m'\u001B[39m:\u001B[38;5;124m'\u001B[39m\u001B[38;5;124m2022-05-01\u001B[39m\u001B[38;5;124m'\u001B[39m, \u001B[38;5;124m'\u001B[39m\u001B[38;5;124mPeriod\u001B[39m\u001B[38;5;124m'\u001B[39m:\u001B[38;5;124m'\u001B[39m\u001B[38;5;124mFQ0\u001B[39m\u001B[38;5;124m'\u001B[39m, \u001B[38;5;124m'\u001B[39m\u001B[38;5;124mFrq\u001B[39m\u001B[38;5;124m'\u001B[39m:\u001B[38;5;124m'\u001B[39m\u001B[38;5;124mD\u001B[39m\u001B[38;5;124m'\u001B[39m})\n",
      "\u001B[0;31mAttributeError\u001B[0m: module 'eikon' has no attribute 'set_app_id'"
     ]
    }
   ],
   "source": [
    "import eikon as ek\n",
    "\n",
    "ek.set_app_id('your_app_id')\n",
    "ek.set_timeout(1000)  # Set timeout in milliseconds\n",
    "\n",
    "df, e = ek.get_data('0#.SPX', economic_story, parameters={'SDate': '2023-05-01', 'EDate':'2022-05-01', 'Period':'FQ0', 'Frq':'D'})"
   ]
  },
  {
   "cell_type": "code",
   "execution_count": 15,
   "metadata": {
    "collapsed": false
   },
   "outputs": [
    {
     "data": {
      "text/plain": "       Instrument                      Date  Price Close\n0         POOL.OQ 2023-05-01 00:00:00+00:00       346.78\n1         POOL.OQ 2023-04-28 00:00:00+00:00       351.32\n2         POOL.OQ 2023-04-27 00:00:00+00:00       342.09\n3         POOL.OQ 2023-04-26 00:00:00+00:00       332.25\n4         POOL.OQ 2023-04-25 00:00:00+00:00       336.92\n...           ...                       ...          ...\n253004      AVY.N 2021-05-07 00:00:00+00:00       221.46\n253005      AVY.N 2021-05-06 00:00:00+00:00       220.35\n253006      AVY.N 2021-05-05 00:00:00+00:00       215.92\n253007      AVY.N 2021-05-04 00:00:00+00:00        214.7\n253008      AVY.N 2021-05-03 00:00:00+00:00       213.71\n\n[253009 rows x 3 columns]",
      "text/html": "<div>\n<style scoped>\n    .dataframe tbody tr th:only-of-type {\n        vertical-align: middle;\n    }\n\n    .dataframe tbody tr th {\n        vertical-align: top;\n    }\n\n    .dataframe thead th {\n        text-align: right;\n    }\n</style>\n<table border=\"1\" class=\"dataframe\">\n  <thead>\n    <tr style=\"text-align: right;\">\n      <th></th>\n      <th>Instrument</th>\n      <th>Date</th>\n      <th>Price Close</th>\n    </tr>\n  </thead>\n  <tbody>\n    <tr>\n      <th>0</th>\n      <td>POOL.OQ</td>\n      <td>2023-05-01 00:00:00+00:00</td>\n      <td>346.78</td>\n    </tr>\n    <tr>\n      <th>1</th>\n      <td>POOL.OQ</td>\n      <td>2023-04-28 00:00:00+00:00</td>\n      <td>351.32</td>\n    </tr>\n    <tr>\n      <th>2</th>\n      <td>POOL.OQ</td>\n      <td>2023-04-27 00:00:00+00:00</td>\n      <td>342.09</td>\n    </tr>\n    <tr>\n      <th>3</th>\n      <td>POOL.OQ</td>\n      <td>2023-04-26 00:00:00+00:00</td>\n      <td>332.25</td>\n    </tr>\n    <tr>\n      <th>4</th>\n      <td>POOL.OQ</td>\n      <td>2023-04-25 00:00:00+00:00</td>\n      <td>336.92</td>\n    </tr>\n    <tr>\n      <th>...</th>\n      <td>...</td>\n      <td>...</td>\n      <td>...</td>\n    </tr>\n    <tr>\n      <th>253004</th>\n      <td>AVY.N</td>\n      <td>2021-05-07 00:00:00+00:00</td>\n      <td>221.46</td>\n    </tr>\n    <tr>\n      <th>253005</th>\n      <td>AVY.N</td>\n      <td>2021-05-06 00:00:00+00:00</td>\n      <td>220.35</td>\n    </tr>\n    <tr>\n      <th>253006</th>\n      <td>AVY.N</td>\n      <td>2021-05-05 00:00:00+00:00</td>\n      <td>215.92</td>\n    </tr>\n    <tr>\n      <th>253007</th>\n      <td>AVY.N</td>\n      <td>2021-05-04 00:00:00+00:00</td>\n      <td>214.7</td>\n    </tr>\n    <tr>\n      <th>253008</th>\n      <td>AVY.N</td>\n      <td>2021-05-03 00:00:00+00:00</td>\n      <td>213.71</td>\n    </tr>\n  </tbody>\n</table>\n<p>253009 rows × 3 columns</p>\n</div>"
     },
     "execution_count": 15,
     "metadata": {},
     "output_type": "execute_result"
    }
   ],
   "source": [
    "df['Date'] = pd.to_datetime(df['Date'])\n",
    "df"
   ]
  },
  {
   "cell_type": "code",
   "execution_count": 16,
   "metadata": {
    "collapsed": false
   },
   "outputs": [],
   "source": [
    "df.to_csv(\"Dataframes/refinitiv.csv\", index=False)"
   ]
  },
  {
   "cell_type": "code",
   "execution_count": null,
   "outputs": [],
   "source": [],
   "metadata": {
    "collapsed": false
   }
  }
 ],
 "metadata": {
  "kernelspec": {
   "display_name": "base",
   "language": "python",
   "name": "python3"
  },
  "language_info": {
   "codemirror_mode": {
    "name": "ipython",
    "version": 3
   },
   "file_extension": ".py",
   "mimetype": "text/x-python",
   "name": "python",
   "nbconvert_exporter": "python",
   "pygments_lexer": "ipython3",
   "version": "3.9.10"
  },
  "vscode": {
   "interpreter": {
    "hash": "59f3145cc67fcda0343c2852f1f97113a2e6e98841e887156424448e7071ad54"
   }
  }
 },
 "nbformat": 4,
 "nbformat_minor": 0
}
